{
 "cells": [
  {
   "cell_type": "code",
   "execution_count": 40,
   "metadata": {},
   "outputs": [],
   "source": [
    "import re\n",
    "import json\n",
    "import pickle\n",
    "import pandas as pd\n",
    "from nltk.corpus import wordnet as wn\n",
    "from nltk.stem import WordNetLemmatizer\n",
    "from nltk.corpus.reader.wordnet import WordNetError"
   ]
  },
  {
   "cell_type": "code",
   "execution_count": 47,
   "metadata": {},
   "outputs": [],
   "source": [
    "with open('testAlign.pkl', 'rb') as inp:\n",
    "    testAlign = pickle.load(inp)"
   ]
  },
  {
   "cell_type": "code",
   "execution_count": 5,
   "metadata": {},
   "outputs": [],
   "source": [
    "with open('en.test_predictions.txt') as enTest:\n",
    "    senseList = enTest.readlines()"
   ]
  },
  {
   "cell_type": "code",
   "execution_count": 21,
   "metadata": {},
   "outputs": [],
   "source": [
    "def keyParsing(total_key):\n",
    "    key_regex = r\"d(.*).s(.*).t(.*) (.*)\"\n",
    "    doc, sen, term, senseID = re.match(key_regex, total_key).groups()\n",
    "    \n",
    "    return sen, senseID"
   ]
  },
  {
   "cell_type": "code",
   "execution_count": 41,
   "metadata": {},
   "outputs": [],
   "source": [
    "sense_key_regex = r\"(.*)\\%(.*):(.*):(.*):(.*):(.*)\"\n",
    "synset_types = {1:'n', 2:'v', 3:'a', 4:'r', 5:'s'}\n",
    "\n",
    "def synset_from_sense_key(sense_key):\n",
    "    \n",
    "    lemma, ss_type, lex_num, lex_id, head_word, head_id = re.match(sense_key_regex, sense_key).groups()\n",
    "    ss_idx = '.'.join([lemma, synset_types[int(ss_type)], lex_id])\n",
    "    \n",
    "    try:\n",
    "        synset = wn.synset(ss_idx)\n",
    "    except WordNetError:\n",
    "        synset = ss_idx\n",
    "       \n",
    "    return lemma, synset"
   ]
  },
  {
   "cell_type": "code",
   "execution_count": 79,
   "metadata": {},
   "outputs": [],
   "source": [
    "temp=\"Synset('alike.r.02')\""
   ]
  },
  {
   "cell_type": "code",
   "execution_count": 81,
   "metadata": {},
   "outputs": [],
   "source": [
    "synset_regex = r\"Synset\\('(.*)'\\)\"\n",
    "synsetFi = re.match(synset_regex, temp).group(1)"
   ]
  },
  {
   "cell_type": "code",
   "execution_count": 82,
   "metadata": {},
   "outputs": [
    {
     "data": {
      "text/plain": [
       "'alike.r.02'"
      ]
     },
     "execution_count": 82,
     "metadata": {},
     "output_type": "execute_result"
    }
   ],
   "source": [
    "synsetFi"
   ]
  },
  {
   "cell_type": "code",
   "execution_count": 57,
   "metadata": {},
   "outputs": [
    {
     "data": {
      "text/plain": [
       "'Number'"
      ]
     },
     "execution_count": 57,
     "metadata": {},
     "output_type": "execute_result"
    }
   ],
   "source": [
    "testAlign[0][2][0][1]"
   ]
  },
  {
   "cell_type": "code",
   "execution_count": 86,
   "metadata": {},
   "outputs": [],
   "source": [
    "multi_WN = []\n",
    "lemmatizer = WordNetLemmatizer()\n",
    "\n",
    "\n",
    "for sense in senseList:\n",
    "    \n",
    "    sen, senseID = keyParsing(sense)\n",
    "    idx = int(sen)\n",
    "    \n",
    "    try:\n",
    "        lemma, synsetWN = synset_from_sense_key(senseID)\n",
    "    except AttributeError:\n",
    "        pass \n",
    "\n",
    "    for i in range(len(testAlign[idx])):\n",
    "        ele = testAlign[idx][i]\n",
    "        temp = ele[1].lower()\n",
    "        lema_ele = lemmatizer.lemmatize(temp)\n",
    "        \n",
    "        if lema_ele == lemma:\n",
    "            if ele[0][1] not in ['Adverb', 'Noun', 'Verb', 'Adjective']:\n",
    "                pass\n",
    "            \n",
    "            else:\n",
    "                synTemp = str(synsetWN)\n",
    "                try:\n",
    "                    synset_regex = r\"Synset\\('(.*)'\\)\"\n",
    "                    synsetFi = re.match(synset_regex, synTemp).group(1)\n",
    "                except AttributeError:\n",
    "                    synsetFi = synTemp\n",
    "                \n",
    "                sense_dic = {}\n",
    "                sense_dic['src'] = temp\n",
    "                sense_dic['trg'] = ele[0][0]\n",
    "                sense_dic['lemma'] = lemma\n",
    "                sense_dic['sense_key'] = senseID\n",
    "                synsetTemp = str(synsetWN)\n",
    "                sense_dic['wordnet_synset'] = synsetFi\n",
    "                sense_dic['location'] = int(sen)\n",
    "                multi_WN.append(sense_dic)"
   ]
  },
  {
   "cell_type": "code",
   "execution_count": 89,
   "metadata": {},
   "outputs": [
    {
     "data": {
      "text/plain": [
       "10123"
      ]
     },
     "execution_count": 89,
     "metadata": {},
     "output_type": "execute_result"
    }
   ],
   "source": [
    "len(multi_WN)"
   ]
  },
  {
   "cell_type": "code",
   "execution_count": 88,
   "metadata": {},
   "outputs": [],
   "source": [
    "with open(\"Multi_Wordnet.json\", \"w\", encoding='utf-8') as multiWN:\n",
    "    json.dump(multi_WN, multiWN, indent=4)"
   ]
  },
  {
   "cell_type": "code",
   "execution_count": null,
   "metadata": {},
   "outputs": [],
   "source": []
  }
 ],
 "metadata": {
  "kernelspec": {
   "display_name": "Python 3",
   "language": "python",
   "name": "python3"
  },
  "language_info": {
   "codemirror_mode": {
    "name": "ipython",
    "version": 3
   },
   "file_extension": ".py",
   "mimetype": "text/x-python",
   "name": "python",
   "nbconvert_exporter": "python",
   "pygments_lexer": "ipython3",
   "version": "3.6.8"
  }
 },
 "nbformat": 4,
 "nbformat_minor": 2
}
